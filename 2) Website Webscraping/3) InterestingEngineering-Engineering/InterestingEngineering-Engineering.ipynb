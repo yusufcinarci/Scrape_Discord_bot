{
 "cells": [
  {
   "cell_type": "code",
   "execution_count": 2,
   "id": "a35e595f",
   "metadata": {},
   "outputs": [
    {
     "name": "stdout",
     "output_type": "stream",
     "text": [
      "Title: ChatGPT's crypto token makes $12 million in trading on day 1\n",
      "Link: https://interestingengineering.com/culture/chatgpts-crypto-token-12-million\n",
      "Date: just now\n",
      "\n",
      "Title: Israel has unveiled its AI-assisted next-gen 'Merkava' tank\n",
      "Link: https://interestingengineering.com/military/israel-ai-assisted-next-gen-merkava\n",
      "Date: 1 hour ago\n",
      "\n",
      "Title: New quantum magnetometer to map Earth’s magnetic field from space\n",
      "Link: https://interestingengineering.com/innovation/new-quantum-magnetometer-to-map-earths-magnetic-field-from-space\n",
      "Date: 1 hour ago\n",
      "\n",
      "Title: 'Aliens' displayed in Mexico are from a single skeleton\n",
      "Link: https://interestingengineering.com/culture/aliens-displayed-in-mexico-are-from-a-single-skeleton\n",
      "Date: 2 hours ago\n",
      "\n",
      "Title: Black holes scarf up matter at dizzying speeds, says study\n",
      "Link: https://interestingengineering.com/science/black-holes-matter-dizzying-speeds\n",
      "Date: 8 hours ago\n",
      "\n",
      "Title: NASA aims to destroy an Empire State Building-sized asteroid\n",
      "Link: https://interestingengineering.com/science/nasa-bennu-asteroid-deflect\n",
      "Date: 13 hours ago\n",
      "\n",
      "Title: In a first, scientists light up blue LED with an AA battery\n",
      "Link: https://interestingengineering.com/innovation/blue-led-ultralow-turn-on-voltage\n",
      "Date: 15 hours ago\n",
      "\n",
      "Title: Cooler temperatures may help to extend EV-battery life\n",
      "Link: https://interestingengineering.com/transportation/cooler-temperatures-may-help-to-extend-ev-battery-life\n",
      "Date: 16 hours ago\n",
      "\n",
      "Title: DALL-E 3 coming in October, prompt engineering not required\n",
      "Link: https://interestingengineering.com/innovation/dall-e-3-coming-in-october-prompt-engineering-not-required\n",
      "Date: 17 hours ago\n",
      "\n"
     ]
    }
   ],
   "source": [
    "import requests\n",
    "from bs4 import BeautifulSoup\n",
    "from urllib.parse import urljoin\n",
    "\n",
    "# Base URL to prepend to relative links\n",
    "base_url = 'https://interestingengineering.com/'\n",
    "\n",
    "# Replace 'your_url_here' with the actual URL of the website you want to scrape\n",
    "url = 'https://interestingengineering.com/news/page/1'  # Replace with the actual URL\n",
    "\n",
    "# Send an HTTP GET request to the website\n",
    "response = requests.get(url)\n",
    "\n",
    "# Check if the request was successful\n",
    "if response.status_code == 200:\n",
    "    # Parse the HTML content of the page using BeautifulSoup\n",
    "    soup = BeautifulSoup(response.text, 'html.parser')\n",
    "\n",
    "    # Find and print the article titles, URLs, and date information\n",
    "    article_blocks = soup.find_all('div', class_='Category_result__description__iz_rw')  # Replace with the actual HTML element and class name\n",
    "    for block in article_blocks:\n",
    "        title_link_element = block.find('a', href=True)\n",
    "        title = title_link_element.find('h2', class_='Category_result__header__HQgVv').text.strip()\n",
    "        link = urljoin(base_url, title_link_element['href'])  # Prepend base URL to relative links\n",
    "        date_element = block.find('span', class_='Category_result__author__publishTime__nwLBU')\n",
    "        date = date_element.text.strip()\n",
    "        print(f\"Title: {title}\")\n",
    "        print(f\"Link: {link}\")\n",
    "        print(f\"Date: {date}\")\n",
    "        print()  # Add an empty line for better readability\n",
    "else:\n",
    "    print('Failed to retrieve the webpage. Status code:', response.status_code)"
   ]
  },
  {
   "cell_type": "code",
   "execution_count": null,
   "id": "f0451eea",
   "metadata": {},
   "outputs": [],
   "source": []
  }
 ],
 "metadata": {
  "kernelspec": {
   "display_name": "Python 3 (ipykernel)",
   "language": "python",
   "name": "python3"
  },
  "language_info": {
   "codemirror_mode": {
    "name": "ipython",
    "version": 3
   },
   "file_extension": ".py",
   "mimetype": "text/x-python",
   "name": "python",
   "nbconvert_exporter": "python",
   "pygments_lexer": "ipython3",
   "version": "3.11.4"
  }
 },
 "nbformat": 4,
 "nbformat_minor": 5
}
