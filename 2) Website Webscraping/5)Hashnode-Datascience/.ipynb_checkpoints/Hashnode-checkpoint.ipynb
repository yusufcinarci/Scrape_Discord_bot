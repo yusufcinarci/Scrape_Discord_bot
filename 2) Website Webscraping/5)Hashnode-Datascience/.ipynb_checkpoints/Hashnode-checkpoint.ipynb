{
 "cells": [
  {
   "cell_type": "code",
   "execution_count": 1,
   "id": "21b66b80",
   "metadata": {},
   "outputs": [
    {
     "name": "stdout",
     "output_type": "stream",
     "text": [
      "Title: Applied Scientist or Data Scientist?\n",
      "Link: https://datascian.hashnode.dev/applied-scientist-or-data-scientist-8d6fc7f42aef\n",
      "Date: an hour ago\n",
      "\n",
      "Title: Discovering Patterns and Insights in Unlabeled Data\n",
      "Link: https://tech-talks.hashnode.dev/discovering-patterns-and-insights-in-unlabeled-data\n",
      "Date: 6 hours ago\n",
      "\n",
      "Title: Analysing My Spotify Listening Habits with Power BI\n",
      "Link: https://bolanle1.hashnode.dev/analysing-my-spotify-listening-habits-with-power-bi\n",
      "Date: 16 hours ago\n",
      "\n",
      "Title: Handling Missing Data like a Pro!\n",
      "Link: https://theengineerkid.hashnode.dev/handling-missing-data-like-a-pro\n",
      "Date: a day ago\n",
      "\n",
      "Title: Part 1; Advanced Techniques: Harnessing the Full Power of Optuna for Model Preprocessing.\n",
      "Link: https://ogsiji.hashnode.dev/part-1-advanced-techniques-harnessing-the-full-power-of-optuna-for-model-preprocessing\n",
      "Date: Sep 20, 2023\n",
      "\n",
      "Title: Meet CulturaX: A New Multilingual Dataset for Training AI Models in 167 Languages\n",
      "Link: https://mikeyoung44.hashnode.dev/meet-culturax-a-new-multilingual-dataset-for-training-ai-models-in-167-languages\n",
      "Date: Sep 19, 2023\n",
      "\n",
      "Title: Best Portfolio Projects for Data Science\n",
      "Link: https://datascian.hashnode.dev/best-portfolio-projects-for-data-science-d45d43fd154\n",
      "Date: Sep 19, 2023\n",
      "\n",
      "Title: 📊 8 Top Resources to Learn R Programming for Free\n",
      "Link: https://evergrowingdev.hashnode.dev/8-top-resources-to-learn-r-programming-for-free\n",
      "Date: Sep 19, 2023\n",
      "\n",
      "Title: Creating visually appealing plots\n",
      "Link: https://datailm.hashnode.dev/creating-visually-appealing-plots\n",
      "Date: Sep 19, 2023\n",
      "\n",
      "Title: Telling a compelling story with data dashboards\n",
      "Link: https://datawrites.hashnode.dev/telling-a-compelling-story-with-data-dashboards\n",
      "Date: Sep 19, 2023\n",
      "\n"
     ]
    }
   ],
   "source": [
    "import requests\n",
    "from bs4 import BeautifulSoup\n",
    "\n",
    "# Replace 'your_url_here' with the actual URL of the website you want to scrape\n",
    "url = 'https://hashnode.com/n/data-science'  # Replace with the actual URL\n",
    "\n",
    "# Send an HTTP GET request to the website\n",
    "response = requests.get(url)\n",
    "\n",
    "# Check if the request was successful\n",
    "if response.status_code == 200:\n",
    "    # Parse the HTML content of the page using BeautifulSoup\n",
    "    soup = BeautifulSoup(response.text, 'html.parser')\n",
    "\n",
    "    # Find and print the post titles, URLs, and dates\n",
    "    post_sections = soup.find_all('section', class_='flex flex-col gap-2 sm:gap-4')  # Replace with the actual HTML element and class name\n",
    "    for section in post_sections:\n",
    "        title_element = section.find('h1', class_='font-heading text-base sm:text-xl font-semibold sm:font-bold text-slate-700 dark:text-slate-200 hn-break-words cursor-pointer')\n",
    "        title = title_element.text.strip()\n",
    "        link_element = title_element.find_parent('a', href=True)\n",
    "        link = link_element['href']\n",
    "        date_element = section.find('p', class_='text-sm text-slate-500 dark:text-slate-400 font-normal')\n",
    "        date = date_element.text.strip()\n",
    "        print(f\"Title: {title}\")\n",
    "        print(f\"Link: {link}\")\n",
    "        print(f\"Date: {date}\")\n",
    "        print()  # Add an empty line for better readability\n",
    "else:\n",
    "    print('Failed to retrieve the webpage. Status code:', response.status_code)"
   ]
  },
  {
   "cell_type": "code",
   "execution_count": null,
   "id": "385837a8",
   "metadata": {},
   "outputs": [],
   "source": []
  }
 ],
 "metadata": {
  "kernelspec": {
   "display_name": "Python 3 (ipykernel)",
   "language": "python",
   "name": "python3"
  },
  "language_info": {
   "codemirror_mode": {
    "name": "ipython",
    "version": 3
   },
   "file_extension": ".py",
   "mimetype": "text/x-python",
   "name": "python",
   "nbconvert_exporter": "python",
   "pygments_lexer": "ipython3",
   "version": "3.11.4"
  }
 },
 "nbformat": 4,
 "nbformat_minor": 5
}
