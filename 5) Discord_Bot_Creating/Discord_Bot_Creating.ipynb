{
 "cells": [
  {
   "cell_type": "markdown",
   "id": "a7a0166d",
   "metadata": {},
   "source": [
    "# Discord Bot Creating"
   ]
  },
  {
   "cell_type": "code",
   "execution_count": 2,
   "id": "a6059f09",
   "metadata": {},
   "outputs": [
    {
     "name": "stderr",
     "output_type": "stream",
     "text": [
      "[2023-09-23 14:49:56] [INFO    ] discord.client: logging in using static token\n",
      "[2023-09-23 14:49:56] [INFO    ] discord.client: logging in using static token\n",
      "[2023-09-23 14:49:57] [INFO    ] discord.gateway: Shard ID None has connected to Gateway (Session ID: 81e19d6975e1dbead464675b5b548c1b).\n",
      "[2023-09-23 14:49:57] [INFO    ] discord.gateway: Shard ID None has connected to Gateway (Session ID: 81e19d6975e1dbead464675b5b548c1b).\n"
     ]
    },
    {
     "name": "stdout",
     "output_type": "stream",
     "text": [
      "Logged in as Scrape\n"
     ]
    }
   ],
   "source": [
    "import discord\n",
    "from discord.ext import commands\n",
    "import googlesearch\n",
    "import nest_asyncio\n",
    "\n",
    "nest_asyncio.apply()\n",
    "\n",
    "intents= discord.Intents.all()\n",
    "intents.members=True\n",
    "intents.message_content = True\n",
    "\n",
    "\n",
    "bot = commands.Bot(command_prefix='!', intents=intents)\n",
    "\n",
    "\n",
    "@bot.event\n",
    "async def on_ready():\n",
    "    print(f'Logged in as {bot.user.name}')\n",
    "\n",
    "\n",
    "@bot.command(name='google')\n",
    "async def google_search(ctx, *query):\n",
    "    # Convert the query into a single string\n",
    "    query = ' '.join(query)\n",
    "\n",
    "    # Perform a Google search\n",
    "    search_results = googlesearch.search(query, lang='en', num_results=5 )\n",
    "\n",
    "    # Send the search results as messages\n",
    "    for result in search_results:\n",
    "        await ctx.send(result)\n",
    "\n",
    "\n",
    "bot.run('token')"
   ]
  },
  {
   "cell_type": "code",
   "execution_count": null,
   "id": "47669233",
   "metadata": {},
   "outputs": [],
   "source": []
  }
 ],
 "metadata": {
  "kernelspec": {
   "display_name": "Python 3 (ipykernel)",
   "language": "python",
   "name": "python3"
  },
  "language_info": {
   "codemirror_mode": {
    "name": "ipython",
    "version": 3
   },
   "file_extension": ".py",
   "mimetype": "text/x-python",
   "name": "python",
   "nbconvert_exporter": "python",
   "pygments_lexer": "ipython3",
   "version": "3.11.4"
  }
 },
 "nbformat": 4,
 "nbformat_minor": 5
}
